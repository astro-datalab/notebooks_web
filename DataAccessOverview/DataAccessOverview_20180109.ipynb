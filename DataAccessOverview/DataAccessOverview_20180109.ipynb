{
 "cells": [
  {
   "cell_type": "code",
   "execution_count": 1,
   "metadata": {
    "collapsed": true
   },
   "outputs": [],
   "source": [
    "__author__ = 'Robert Nikutta <nikutta@noao.edu> and the NOAO Data Lab team <datalab@noao.edu>'\n",
    "__version__ = '20180108' # yyyymmdd; version datestamp of this notebook\n",
    "__datasets__ = ['allwise','smash']"
   ]
  },
  {
   "cell_type": "markdown",
   "metadata": {},
   "source": [
    "# Data Lab data access examples\n",
    "This notebook shows very short examples of how different data can be queried in Data Lab, and what you can do with them.\n",
    "\n",
    "Also experiment with the [Getting Started With Data Lab notebook](http://datalab.noao.edu/notebooks/web/GettingStartedWithDataLab/GettingStartedWithDataLab.html)."
   ]
  },
  {
   "cell_type": "markdown",
   "metadata": {},
   "source": [
    "# Disclaimer & attribution\n",
    "If you use parts of this or other notebooks for your published science, please acknowledge the following:\n",
    "\n",
    "* Data Lab concept paper: Fitzpatrick et al., \"The NOAO Data Laboratory: a conceptual overview\", SPIE, 9149, 2014, http://dx.doi.org/10.1117/12.2057445\n",
    "\n",
    "* Data Lab disclaimer: http://datalab.noao.edu/disclaimers.php"
   ]
  },
  {
   "cell_type": "markdown",
   "metadata": {},
   "source": [
    "# Table of contents\n",
    "* [Magnitude distribution in WISE](#histogram)\n",
    "* [Color-magnitude diagram of a dwarf galaxy](#cmd)\n",
    "* [Light curve of RRLyrae star](#lightcurve)"
   ]
  },
  {
   "cell_type": "markdown",
   "metadata": {},
   "source": [
    "<a class=\"anchor\" id=\"import\"></a>\n",
    "# Imports and setup"
   ]
  },
  {
   "cell_type": "code",
   "execution_count": 2,
   "metadata": {
    "collapsed": true
   },
   "outputs": [],
   "source": [
    "# Python 2/3 compatibility\n",
    "from __future__ import print_function # to use print() as a function in Python 2\n",
    "\n",
    "try:\n",
    "    input = raw_input # use 'input' function in both Python 2 and 3\n",
    "except NameError:\n",
    "    pass\n",
    "\n",
    "# std lib\n",
    "from getpass import getpass\n",
    "\n",
    "# 3rd party\n",
    "import numpy as np\n",
    "import pylab as plt\n",
    "%matplotlib inline\n",
    "\n",
    "# Data Lab\n",
    "from dl import authClient as ac, queryClient as qc, storeClient as sc\n",
    "try:\n",
    "    from dl.helpers.utils import convert\n",
    "except ImportError:\n",
    "    from dl.helpers import convert"
   ]
  },
  {
   "cell_type": "markdown",
   "metadata": {},
   "source": [
    "<a class=\"anchor\" id=\"login\"></a>\n",
    "# Log in\n",
    "Obtain a Data Lab authentication token, which needs to passed along to all Data Lab server-side operations."
   ]
  },
  {
   "cell_type": "code",
   "execution_count": 3,
   "metadata": {},
   "outputs": [
    {
     "name": "stdout",
     "output_type": "stream",
     "text": [
      "Enter user name (+ENTER): anonymous\n",
      "Enter password (+ENTER): ········\n"
     ]
    }
   ],
   "source": [
    "# here we can use the 'anonymous' user name, and an empty password\n",
    "token = ac.login(input('Enter user name (+ENTER): '),getpass('Enter password (+ENTER): '))"
   ]
  },
  {
   "cell_type": "markdown",
   "metadata": {},
   "source": [
    "<a class=\"anchor\" id=\"histogram\"></a>\n",
    "# Magnitude distribution\n",
    "In this example we query the AllWISE database (the `source` table) for the measured magnitudes in 3 bands of 10k sources with high SNR."
   ]
  },
  {
   "cell_type": "code",
   "execution_count": 4,
   "metadata": {
    "collapsed": true
   },
   "outputs": [],
   "source": [
    "query =\\\n",
    "\"\"\"\n",
    "select w1mpro,w2mpro,w3mpro\n",
    "from allwise.source\n",
    "where w1snr>30 and w2snr>30 and w3snr>30\n",
    "limit 10000\n",
    "\"\"\"\n",
    "res = qc.query(token,sql=query,format='csv')"
   ]
  },
  {
   "cell_type": "markdown",
   "metadata": {},
   "source": [
    "Let's convert the result of the query to a convenient format (here a Pandas dataframe)."
   ]
  },
  {
   "cell_type": "code",
   "execution_count": 5,
   "metadata": {},
   "outputs": [
    {
     "name": "stdout",
     "output_type": "stream",
     "text": [
      "Returning Pandas dataframe\n"
     ]
    }
   ],
   "source": [
    "df = convert(res,'pandas')"
   ]
  },
  {
   "cell_type": "markdown",
   "metadata": {},
   "source": [
    "We'll plot the distributions of the WISE W1, W2, W3 magnitudes as histograms."
   ]
  },
  {
   "cell_type": "code",
   "execution_count": 6,
   "metadata": {},
   "outputs": [
    {
     "data": {
      "text/plain": [
       "<matplotlib.legend.Legend at 0x7ffaf248d9b0>"
      ]
     },
     "execution_count": 6,
     "metadata": {},
     "output_type": "execute_result"
    },
    {
     "data": {
      "image/png": "[encoded data removed]",
      "text/plain": [
       "<matplotlib.figure.Figure at 0x7ffaf24c9390>"
      ]
     },
     "metadata": {},
     "output_type": "display_data"
    }
   ],
   "source": [
    "colors = list('rgb')\n",
    "fig, ax = plt.subplots(1,1,figsize=(7,5))\n",
    "for j in (1,2,3):\n",
    "    ax.hist(df['w{:d}mpro'.format(j)],bins=40,range=(6,10),histtype='step',lw=3,color=colors[j-1],alpha=0.4,label='W{:d}'.format(j+1))\n",
    "ax.set_xlabel('mag (Vega)')\n",
    "ax.set_ylabel('histogram')\n",
    "ax.legend(loc='upper left',frameon=False)"
   ]
  },
  {
   "cell_type": "markdown",
   "metadata": {},
   "source": [
    "<a class=\"anchor\" id=\"cmd\"></a>\n",
    "# Color magnitude diagram\n",
    "In this example we query for the photometry of stars around the known location of the Hydra II dwarf Galaxy, and generate a color-magnitude diagram (CDM) of them.\n",
    "\n",
    "Let's define the query string. We ask for point-like objects `(abs(sharp<0.5))` in field number `169`, deteceted in long exposure images (`depthflag>1`), with `g` magnitudes between `9` and `25`, around a central position `ra0/dec0`, withing `0.1` degrees radius."
   ]
  },
  {
   "cell_type": "code",
   "execution_count": 7,
   "metadata": {
    "collapsed": true
   },
   "outputs": [],
   "source": [
    "field, ra0, dec0, radius = 169, 185.410559533, -31.9760034474, 0.1 # ra0,dec0,radius all in decimal degrees\n",
    "query = \"\"\"\n",
    "SELECT ra,dec,gmag,rmag,imag FROM smash_dr1.object\n",
    "  WHERE fieldid = {:d}\n",
    "    AND depthflag > 1\n",
    "    AND abs(sharp) < 0.5\n",
    "    AND gmag BETWEEN 9 AND 25\n",
    "    AND q3c_radial_query(ra,dec,{:f},{:f},{:f})\n",
    "\"\"\".format(field,ra0,dec0,radius)"
   ]
  },
  {
   "cell_type": "markdown",
   "metadata": {},
   "source": [
    "Submit the query and convert to Pandas:"
   ]
  },
  {
   "cell_type": "code",
   "execution_count": 8,
   "metadata": {},
   "outputs": [
    {
     "name": "stdout",
     "output_type": "stream",
     "text": [
      "Returning Pandas dataframe\n",
      "           ra        dec     gmag     rmag     imag\n",
      "0  185.347863 -32.058646  22.3008  21.1680  20.7281\n",
      "1  185.345062 -32.054665  23.3780  21.7513  21.1997\n",
      "2  185.354247 -32.055922  22.5397  24.5357  23.7342\n",
      "3  185.353235 -32.054740  23.1230  22.5684  22.0882\n",
      "4  185.321045 -32.040530  24.2788  24.7178  24.6063\n"
     ]
    }
   ],
   "source": [
    "response = qc.query(token,sql=query,format='csv')\n",
    "df = convert(response,'pandas')\n",
    "print(df.head())"
   ]
  },
  {
   "cell_type": "markdown",
   "metadata": {},
   "source": [
    "Compute a color column (in the same dataframe):"
   ]
  },
  {
   "cell_type": "code",
   "execution_count": 9,
   "metadata": {},
   "outputs": [
    {
     "name": "stdout",
     "output_type": "stream",
     "text": [
      "           ra        dec     gmag     rmag     imag     g_r\n",
      "0  185.347863 -32.058646  22.3008  21.1680  20.7281  1.1328\n",
      "1  185.345062 -32.054665  23.3780  21.7513  21.1997  1.6267\n",
      "2  185.354247 -32.055922  22.5397  24.5357  23.7342 -1.9960\n",
      "3  185.353235 -32.054740  23.1230  22.5684  22.0882  0.5546\n",
      "4  185.321045 -32.040530  24.2788  24.7178  24.6063 -0.4390\n"
     ]
    }
   ],
   "source": [
    "df['g_r'] = df['gmag'] - df['rmag']\n",
    "print(df.head())"
   ]
  },
  {
   "cell_type": "markdown",
   "metadata": {},
   "source": [
    "Plot a color-magnitude diagram:"
   ]
  },
  {
   "cell_type": "code",
   "execution_count": 10,
   "metadata": {},
   "outputs": [
    {
     "data": {
      "image/png": "[encoded data removed]",
      "text/plain": [
       "<matplotlib.figure.Figure at 0x7ffaf2129390>"
      ]
     },
     "metadata": {},
     "output_type": "display_data"
    }
   ],
   "source": [
    "fig, ax = plt.subplots(figsize=(5,5))\n",
    "x = df['g_r']\n",
    "y = df['gmag']\n",
    "ax.scatter(x,y,marker='.',s=10, alpha=0.8)\n",
    "ax.set_xlabel(x.name)\n",
    "ax.set_ylabel(y.name)\n",
    "ax.set_xlim((-1,2))\n",
    "ax.set_ylim((25.2,14))\n",
    "title = ax.set_title('{:d} objects'.format(len(df)))"
   ]
  },
  {
   "cell_type": "markdown",
   "metadata": {},
   "source": [
    "<a class=\"anchor\" id=\"lightcurve\"></a>\n",
    "# Light curve\n",
    "Some catalogs have multi-epoch data, such as the SMASH survey. We will query for the magnitudes and their errors of all measurements of a star, whose ID we know."
   ]
  },
  {
   "cell_type": "code",
   "execution_count": 11,
   "metadata": {
    "collapsed": true
   },
   "outputs": [],
   "source": [
    "# Unique ID of a RR Lyrae star in Hydra II dwarf galaxy\n",
    "objID = '169.429960'\n",
    "\n",
    "# Select columns: RA, Dec, modified Julian date, calibrated mag, uncertainties, filter band\n",
    "# Note: this database table encodes 'no measurement' values as 99.99\n",
    "# Order the returned rows by ascending mod. Julian date\n",
    "query = \"\"\"SELECT ra,dec,mjd,cmag,cerr,filter\n",
    "        FROM smash_dr1.source\n",
    "        WHERE id='{:s}' AND cmag<99\n",
    "        ORDER BY mjd ASC\"\"\".format(objID)\n",
    "result = qc.query(token,query) # by default the result is a CSV formatted string"
   ]
  },
  {
   "cell_type": "markdown",
   "metadata": {},
   "source": [
    "Convert to Pandas for convenience"
   ]
  },
  {
   "cell_type": "code",
   "execution_count": 12,
   "metadata": {},
   "outputs": [
    {
     "name": "stdout",
     "output_type": "stream",
     "text": [
      "Returning Pandas dataframe\n",
      "           ra        dec           mjd       cmag      cerr filter\n",
      "0  185.431155 -31.995327  56371.327538  21.433147  0.020651      g\n",
      "1  185.431146 -31.995324  56371.328563  21.231598  0.022473      r\n",
      "2  185.431139 -31.995320  56371.329582  21.149094  0.026192      i\n",
      "3  185.431142 -31.995334  56371.330610  21.237938  0.045429      z\n",
      "4  185.431145 -31.995325  56371.331633  21.346725  0.015112      g\n"
     ]
    }
   ],
   "source": [
    "df = convert(result,'pandas') # convert query result to a Pandas dataframe\n",
    "print(df.head())"
   ]
  },
  {
   "cell_type": "markdown",
   "metadata": {},
   "source": [
    "Let's plot the lightcurve as function of date"
   ]
  },
  {
   "cell_type": "code",
   "execution_count": 13,
   "metadata": {},
   "outputs": [
    {
     "data": {
      "text/plain": [
       "Text(0,0.5,'g magnitude')"
      ]
     },
     "execution_count": 13,
     "metadata": {},
     "output_type": "execute_result"
    },
    {
     "data": {
      "image/png": "[encoded data removed]",
      "text/plain": [
       "<matplotlib.figure.Figure at 0x7ffaf2129860>"
      ]
     },
     "metadata": {},
     "output_type": "display_data"
    }
   ],
   "source": [
    "fig, ax = plt.subplots(figsize=(8,6))\n",
    "co = (df['filter']=='g')\n",
    "start = 16\n",
    "jd0 = 57110\n",
    "ax.errorbar(df['mjd'][co][start:]-jd0,df['cmag'][co][start:],yerr=df['cerr'][co][start:],marker='.',ms=8,ls='none',color='g',lw=1,alpha=0.5,label='')\n",
    "ax.set_xlabel('modified Julian date - {:d}'.format(jd0))\n",
    "ax.set_ylabel('g magnitude')"
   ]
  },
  {
   "cell_type": "markdown",
   "metadata": {},
   "source": [
    "A more complete example of time series analysis is shown in the [notebook on RRLyrae stars](http://datalab.noao.edu/notebooks/web/ScienceExamples/TimeSeriesAnalysisRrLyraeStar/TimeSeriesAnalysisOfRrLyraeStar_20180104.html)."
   ]
  }
 ],
 "metadata": {
  "kernelspec": {
   "display_name": "Python 3.5",
   "language": "python",
   "name": "py35"
  },
  "language_info": {
   "codemirror_mode": {
    "name": "ipython",
    "version": 3
   },
   "file_extension": ".py",
   "mimetype": "text/x-python",
   "name": "python",
   "nbconvert_exporter": "python",
   "pygments_lexer": "ipython3",
   "version": "3.5.4"
  }
 },
 "nbformat": 4,
 "nbformat_minor": 2
}
