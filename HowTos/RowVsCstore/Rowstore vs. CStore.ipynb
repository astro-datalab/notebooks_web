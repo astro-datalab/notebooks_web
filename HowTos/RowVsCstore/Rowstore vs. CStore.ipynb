{
 "cells": [
  {
   "cell_type": "markdown",
   "metadata": {},
   "source": [
    "# CStore Performance Vs. Row Store\n"
   ]
  },
  {
   "cell_type": "markdown",
   "metadata": {},
   "source": [
    "At Data Lab, we ran performance tests of various scenarios against many open-source DBMSs.  The cstore_fdw (for columnar store, foreign data wrapper), proved very fast.  Below we compare the run time between both storage formats.  (For more on cstore see https://github.com/citusdata/cstore_fdw)"
   ]
  },
  {
   "cell_type": "markdown",
   "metadata": {},
   "source": [
    "Basic Imports"
   ]
  },
  {
   "cell_type": "code",
   "execution_count": 17,
   "metadata": {},
   "outputs": [],
   "source": [
    "# std lib\n",
    "from cStringIO import StringIO\n",
    "import getpass\n",
    "\n",
    "# 3rd party\n",
    "import numpy as N\n",
    "import pylab as p\n",
    "import matplotlib.pyplot as plt\n",
    "%matplotlib inline\n",
    "from IPython.display import FileLink\n",
    "\n",
    "# Datalab\n",
    "from dl import authClient as ac, queryClient as qc, helpers\n"
   ]
  },
  {
   "cell_type": "code",
   "execution_count": 4,
   "metadata": {},
   "outputs": [],
   "source": [
    "# anonymous login (some functionality is limited)\n",
    "token = ac.login('anonymous') # username, here anonymous"
   ]
  },
  {
   "cell_type": "markdown",
   "metadata": {},
   "source": [
    "# Query against Rowstore"
   ]
  },
  {
   "cell_type": "code",
   "execution_count": 8,
   "metadata": {},
   "outputs": [
    {
     "name": "stdout",
     "output_type": "stream",
     "text": [
      "CPU times: user 27 ms, sys: 10 ms, total: 37 ms\n",
      "Wall time: 9min 31s\n"
     ]
    }
   ],
   "source": [
    "%%time\n",
    "query = \"\"\"SELECT min(flux_g), max(flux_g), avg(flux_g),\n",
    "                  min(flux_r), max(flux_r), avg(flux_r),\n",
    "                  min(flux_z), max(flux_z), avg(flux_z)\n",
    "           FROM ls_dr5.tractor\n",
    "           WHERE psfsize_r > 0.6635 and psfsize_r < 1.327\"\"\"\n",
    "\n",
    "# Send the query to the Queryclient in SQL, with a comma-separated-value (csv) output\n",
    "response = qc.query(token, sql=query, fmt='csv')"
   ]
  },
  {
   "cell_type": "markdown",
   "metadata": {},
   "source": [
    "In this run, it took **9min 31s** to execute the query against the normal rowstore table in Postgres.  Since `psfsize_r` is not indexed (only bold columns listed here are indexed: http://datalab.noao.edu/query.php?name=ls_dr3.tractor), the database has to read through every row in `ls_dr5.tractor` to find all rows satisfying the WHERE clause.\n",
    "\n",
    "Compare this to the next run.\n",
    "# Query Against CStore"
   ]
  },
  {
   "cell_type": "code",
   "execution_count": 9,
   "metadata": {},
   "outputs": [
    {
     "name": "stdout",
     "output_type": "stream",
     "text": [
      "CPU times: user 21 ms, sys: 5 ms, total: 26 ms\n",
      "Wall time: 4min 21s\n"
     ]
    }
   ],
   "source": [
    "%%time\n",
    "query = \"\"\"SELECT min(flux_g), max(flux_g), avg(flux_g),\n",
    "                  min(flux_r), max(flux_r), avg(flux_r),\n",
    "                  min(flux_z), max(flux_z), avg(flux_z)\n",
    "           FROM ls_dr5.tractor_cs\n",
    "           WHERE psfsize_r > 0.6635 and psfsize_r < 1.327\"\"\"\n",
    "\n",
    "# Send the query to the Queryclient in SQL, with a comma-separated-value (csv) output\n",
    "response = qc.query(token, sql=query, fmt='csv')"
   ]
  },
  {
   "cell_type": "markdown",
   "metadata": {},
   "source": [
    "This time, we queried against a cstore table (denoted by the `_cs` in the table name in the query above), and it took less than half the time at **4min 21s**.  Since cstore tables store the min/max values of each stripe, they have an inherent index **on every column** that requires litte extra space to store on disk."
   ]
  },
  {
   "cell_type": "markdown",
   "metadata": {},
   "source": [
    "# Graph of results"
   ]
  },
  {
   "cell_type": "code",
   "execution_count": 24,
   "metadata": {},
   "outputs": [
    {
     "data": {
      "text/plain": [
       "<matplotlib.text.Text at 0x7fea1f951550>"
      ]
     },
     "execution_count": 24,
     "metadata": {},
     "output_type": "execute_result"
    },
    {
     "data": {
      "image/png": "[encoded data removed]",
      "text/plain": [
       "<matplotlib.figure.Figure at 0x7fea1f5f8cd0>"
      ]
     },
     "metadata": {},
     "output_type": "display_data"
    }
   ],
   "source": [
    "x = [1,2]\n",
    "y = [540,261]\n",
    "ax = plt.subplot()\n",
    "pr, pc = plt.bar(x,y)\n",
    "pr.set_facecolor('b')\n",
    "pc.set_facecolor('r')\n",
    "ax.set_xticks(x)\n",
    "ax.set_xticklabels(['Rowstore','CStore'])\n",
    "ax.set_ylim([0,600])\n",
    "ax.set_ylabel('seconds to execute query')\n",
    "ax.set_title('Rowstore vs. CStore query time')"
   ]
  },
  {
   "cell_type": "markdown",
   "metadata": {},
   "source": [
    "# When should I use CStore tables in Data Lab?\n",
    "We recommend running your query against a cstore table when your query's WHERE clause is against unindexed columns.\n",
    "\n",
    "~~~~\n",
    "SELECT <...>\n",
    "FROM <...>_cs\n",
    "WHERE unindexed_column <...>\n",
    "~~~~\n",
    "\n",
    "If some columns in the WHERE clause are indexed and others are not, there is not a universal recommendation.  A useful rule-of-thumb is when the number of rows to sample is > ~100,000 *after* applying the conditions of the indexed columns, you might try a cstore table to see if performance improves.\n"
   ]
  }
 ],
 "metadata": {
  "kernelspec": {
   "display_name": "Python 2",
   "language": "python",
   "name": "python2"
  },
  "language_info": {
   "codemirror_mode": {
    "name": "ipython",
    "version": 2
   },
   "file_extension": ".py",
   "mimetype": "text/x-python",
   "name": "python",
   "nbconvert_exporter": "python",
   "pygments_lexer": "ipython2",
   "version": "2.7.14"
  }
 },
 "nbformat": 4,
 "nbformat_minor": 2
}
