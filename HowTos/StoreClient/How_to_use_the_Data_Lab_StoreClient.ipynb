{
 "cells": [
  {
   "cell_type": "markdown",
   "metadata": {},
   "source": [
    "## How to use the Data Lab *Store Client* Service\n",
    "\n",
    "*Revised:  Dec 29, 2017*\n",
    "\n",
    "This notebook documents how to use the Data Lab virtual storage system via the store client service. This can be done either from a Python script or from the command line using the <i>datalab</i> command.\n",
    "\n",
    "### The storage manager service interface\n",
    "\n",
    "The store client service simplifies access to the Data Lab virtual storage system. This section describes the store client service interface in case we want to write our own code against that rather than using one of the provided tools. The store client service accepts an HTTP GET call to the appropriate endpoint for the particular operation:\n",
    "\n",
    "| Endpoint | Description | Parameters |\n",
    "|----------|-------------|------------|\n",
    "| /get | Retrieve a file | name |\n",
    "| /put | Upload a file | name |\n",
    "| /cp | Copy a file/directory | from, to |\n",
    "| /ln | Link a file/directory | from, to |\n",
    "| /ls | Get a file/directory listing | name |\n",
    "| /mkdir | Create a directory | name |\n",
    "| /mv | Move/rename a file/directory | from, to |\n",
    "| /rm | Delete a file | name |\n",
    "| /rmdir | Delete a directory | name |\n",
    "| /tag | Annotate a file/directory | name, tag |\n",
    "\n",
    "For example, /get?name=vos://mag.csv\n",
    "\n",
    "#### Virtual storage identifiers\n",
    "\n",
    "Files in the virtual storage are identified via a \"vos://\" label. This resolves to the home area of our space.  Navigation above our home area is not supported.\n",
    "\n",
    "#### Authentication\n",
    "The storage manager service requires a DataLab security token. This needs to be passed as the value of the header keyword \"X-DL-AuthToken\" in any HTTP GET call to the service. "
   ]
  },
  {
   "cell_type": "markdown",
   "metadata": {},
   "source": [
    "### From Python code\n",
    "\n",
    "The store client service can be called from Python code using the <i>datalab</i> module. This provides methods to access the various functions in the <i>storeMgr</i> subpackage. \n",
    "\n",
    "#### Initialization\n",
    "This is the setup that is required to use the store client. The first thing to do is import the relevant Python modules and also retrieve our DataLab security token (remember that this has to be included in any call to the store client service)."
   ]
  },
  {
   "cell_type": "code",
   "execution_count": 1,
   "metadata": {},
   "outputs": [],
   "source": [
    "# Standard notebook imports\n",
    "from __future__ import print_function\n",
    "import getpass\n",
    "from dl import authClient, storeClient"
   ]
  },
  {
   "cell_type": "code",
   "execution_count": 2,
   "metadata": {},
   "outputs": [
    {
     "name": "stdout",
     "output_type": "stream",
     "text": [
      "Account password: ········\n",
      "Login token:   demo00.1018.1018.$1$8tiCBPo5$codJdzYXOR3s2yPklEZwP.\n"
     ]
    }
   ],
   "source": [
    "# Get the security token for the demo00 user\n",
    "token = authClient.login ('demo00',getpass.getpass('Account password: '))\n",
    "if not authClient.isValidToken (token):\n",
    "    print ('Error: invalid user login (%s)' % token)\n",
    "else:\n",
    "    print (\"Login token:   %s\" % token)"
   ]
  },
  {
   "cell_type": "markdown",
   "metadata": {},
   "source": [
    "#### The storeMgr class\n",
    "\n",
    "All queries are executed through the relevant methods of the <i>storeMgr</i> class:\n",
    "\n",
    "| Method | Description | Arguments |\n",
    "|----------|-------------|----------------|\n",
    "| get | Retrieve a file | name, location |\n",
    "| put | Upload a file | name, location |\n",
    "| cp | Copy a file/directory | fr, to |\n",
    "| ln | Create a link to a file/directory | fr, target |\n",
    "| ls | Get a file/directory listing | name |\n",
    "| mkdir | Create a directory | name |\n",
    "| mv | Move/rename a file/directory | fr, to |\n",
    "| rm | Delete a file | name |\n",
    "| rmdir | Delete a directory | name |\n",
    "| tag| Tag a file/directory | name, tag |"
   ]
  },
  {
   "cell_type": "markdown",
   "metadata": {},
   "source": [
    "#### Listing a file/directory\n",
    "\n",
    "We can see all the files that are in a specific directory or get a full listing for a specific file.  In this case, we'll list the default virtual storage directory to use as a basis for changes we'll make below."
   ]
  },
  {
   "cell_type": "code",
   "execution_count": 3,
   "metadata": {},
   "outputs": [
    {
     "name": "stdout",
     "output_type": "stream",
     "text": [
      "gavo_out.csv,public,results,tmp,zxmags.csv\n"
     ]
    }
   ],
   "source": [
    "listing = storeClient.ls (token, name = 'vos://')\n",
    "print (listing)"
   ]
  },
  {
   "cell_type": "markdown",
   "metadata": {},
   "source": [
    "The *public* directory show here is visible to all Data Lab users and provides a means of sharing data without having to setup special access.  Similarly, the *tmp* directory is read-protected and provides a convenient temporary directory to be used in a workflow."
   ]
  },
  {
   "cell_type": "markdown",
   "metadata": {},
   "source": [
    "#### Uploading a file\n",
    "\n",
    "Now we want to upload a new data file from our local disk to the virtual storage:"
   ]
  },
  {
   "cell_type": "code",
   "execution_count": 4,
   "metadata": {},
   "outputs": [
    {
     "name": "stdout",
     "output_type": "stream",
     "text": [
      "(1 / 1) ./newmags.csv -> vos://newmags.csv\n"
     ]
    },
    {
     "data": {
      "text/plain": [
       "u'gavo_out.csv,newmags.csv,public,results,tmp,zxmags.csv'"
      ]
     },
     "execution_count": 4,
     "metadata": {},
     "output_type": "execute_result"
    }
   ],
   "source": [
    "storeClient.put (token, to = 'vos://newmags.csv', fr = './newmags.csv')\n",
    "storeClient.ls (token, name='vos://')"
   ]
  },
  {
   "cell_type": "markdown",
   "metadata": {},
   "source": [
    "#### Downloading a file\n",
    "\n",
    "Let's say we want to download a file from our virtual storage space, in this case a query result that we saved to it in the \"How to use the Data Lab query manager service\" notebook:"
   ]
  },
  {
   "cell_type": "code",
   "execution_count": 5,
   "metadata": {},
   "outputs": [
    {
     "name": "stdout",
     "output_type": "stream",
     "text": [
      "(1/1) [====================] [   142B] newmags.csv\n"
     ]
    },
    {
     "data": {
      "text/plain": [
       "'[<Response [200]>]'"
      ]
     },
     "execution_count": 5,
     "metadata": {},
     "output_type": "execute_result"
    }
   ],
   "source": [
    "storeClient.get (token, fr = 'vos://newmags.csv', to = './mymags.csv')"
   ]
  },
  {
   "cell_type": "markdown",
   "metadata": {},
   "source": [
    "It is also possible to get the contents of a remote file directly into your notebook by specifying the location as an empty string:"
   ]
  },
  {
   "cell_type": "code",
   "execution_count": 6,
   "metadata": {},
   "outputs": [
    {
     "name": "stdout",
     "output_type": "stream",
     "text": [
      "id,g,r,i\n",
      "001,22.3,12.4,21.5\n",
      "002,22.3,12.4,21.5\n",
      "003,22.3,12.4,21.5\n",
      "004,22.3,12.4,21.5\n",
      "005,22.3,12.4,21.5\n",
      "006,22.3,12.4,21.5\n",
      "007,22.3,12.4,21.5\n",
      "\n"
     ]
    }
   ],
   "source": [
    "data = storeClient.get (token, fr = 'vos://newmags.csv', to = '')\n",
    "print (data)"
   ]
  },
  {
   "cell_type": "markdown",
   "metadata": {},
   "source": [
    "#### Creating a directory\n",
    "\n",
    "We can create a directory on the remote storage to be used for saving data later:"
   ]
  },
  {
   "cell_type": "code",
   "execution_count": 7,
   "metadata": {},
   "outputs": [
    {
     "data": {
      "text/plain": [
       "'OK'"
      ]
     },
     "execution_count": 7,
     "metadata": {},
     "output_type": "execute_result"
    }
   ],
   "source": [
    "storeClient.mkdir (token, name = 'vos://results')"
   ]
  },
  {
   "cell_type": "markdown",
   "metadata": {},
   "source": [
    "#### Copying a file/directory\n",
    "\n",
    "We want to put a copy of the file in a remote work directory:"
   ]
  },
  {
   "cell_type": "code",
   "execution_count": 8,
   "metadata": {},
   "outputs": [
    {
     "name": "stdout",
     "output_type": "stream",
     "text": [
      "Before: \n",
      "After: \n"
     ]
    }
   ],
   "source": [
    "storeClient.mkdir (token, name = 'vos://temp')\n",
    "print (\"Before: \" + storeClient.ls (token, name='vos://temp/'))\n",
    "storeClient.cp (token, fr = 'vos://newmags.csv', to = 'vos://temp/newmags.csv')\n",
    "print (\"After: \" + storeClient.ls (token, name='vos://temp/'))"
   ]
  },
  {
   "cell_type": "markdown",
   "metadata": {},
   "source": [
    "Notice that in the *ls()* call we append the directory name with a trailing '/' to list the contents of the directory rather than the directory itself."
   ]
  },
  {
   "cell_type": "markdown",
   "metadata": {},
   "source": [
    "#### Linking to a file/directory\n",
    "\n",
    "Sometimes we want to create a link to a file or directory.  In this case, the link named by the *'fr'* parameter is created and points to the file/container named by the *'target'* parameter."
   ]
  },
  {
   "cell_type": "code",
   "execution_count": 9,
   "metadata": {},
   "outputs": [
    {
     "name": "stdout",
     "output_type": "stream",
     "text": [
      "Root dir: gavo_out.csv,mags.csv,newmags.csv,public,results,temp,tmp,zxmags.csv\n",
      "Temp dir: \n"
     ]
    }
   ],
   "source": [
    "storeClient.ln (token, fr = 'vos://mags.csv', target = 'vos://temp/newmags.csv')\n",
    "print (\"Root dir: \" + storeClient.ls (token, name='vos://'))\n",
    "print (\"Temp dir: \" + storeClient.ls (token, name='vos://temp/'))"
   ]
  },
  {
   "cell_type": "markdown",
   "metadata": {},
   "source": [
    "#### Moving/renaming a file/directory\n",
    "\n",
    "We can move a file or directory:"
   ]
  },
  {
   "cell_type": "code",
   "execution_count": 10,
   "metadata": {},
   "outputs": [
    {
     "name": "stdout",
     "output_type": "stream",
     "text": [
      "Results dir: \n"
     ]
    }
   ],
   "source": [
    "storeClient.mv(token, fr = 'vos://temp/newmags.csv', to = 'vos://results')\n",
    "print (\"Results dir: \" + storeClient.ls (token, name='vos://results/'))"
   ]
  },
  {
   "cell_type": "markdown",
   "metadata": {},
   "source": [
    "#### Deleting a file\n",
    "\n",
    "We can delete a file:"
   ]
  },
  {
   "cell_type": "code",
   "execution_count": 11,
   "metadata": {},
   "outputs": [
    {
     "name": "stdout",
     "output_type": "stream",
     "text": [
      "Before: gavo_out.csv,mags.csv,newmags.csv,public,results,temp,tmp,zxmags.csv\n",
      "After: gavo_out.csv,newmags.csv,public,results,temp,tmp,zxmags.csv\n"
     ]
    }
   ],
   "source": [
    "print (\"Before: \" + storeClient.ls (token, name='vos://'))\n",
    "storeClient.rm (token, name = 'vos://mags.csv')\n",
    "print (\"After: \" + storeClient.ls (token, name='vos://'))"
   ]
  },
  {
   "cell_type": "markdown",
   "metadata": {},
   "source": [
    "#### Deleting a directory\n",
    "\n",
    "We can also delete a directory, doing so also deletes the contents of that directory:"
   ]
  },
  {
   "cell_type": "code",
   "execution_count": 12,
   "metadata": {},
   "outputs": [
    {
     "data": {
      "text/plain": [
       "'OK'"
      ]
     },
     "execution_count": 12,
     "metadata": {},
     "output_type": "execute_result"
    }
   ],
   "source": [
    "storeClient.rmdir( token, name = 'vos://temp')"
   ]
  },
  {
   "cell_type": "markdown",
   "metadata": {},
   "source": [
    "#### Tagging a file/directory\n",
    "\n",
    "We can tag any file or directory with arbitrary metadata:"
   ]
  },
  {
   "cell_type": "code",
   "execution_count": 13,
   "metadata": {},
   "outputs": [
    {
     "data": {
      "text/plain": [
       "'OK'"
      ]
     },
     "execution_count": 13,
     "metadata": {},
     "output_type": "execute_result"
    }
   ],
   "source": [
    "storeClient.tag(token, name = 'vos://results', tag = 'The results from my analysis')"
   ]
  },
  {
   "cell_type": "markdown",
   "metadata": {},
   "source": [
    "NOTE: We need a method to retrieve tags or include them in the listing."
   ]
  },
  {
   "cell_type": "markdown",
   "metadata": {},
   "source": [
    "#### Cleanup the demo directory of remaining files"
   ]
  },
  {
   "cell_type": "code",
   "execution_count": 14,
   "metadata": {},
   "outputs": [
    {
     "data": {
      "text/plain": [
       "u'gavo_out.csv,public,tmp,zxmags.csv'"
      ]
     },
     "execution_count": 14,
     "metadata": {},
     "output_type": "execute_result"
    }
   ],
   "source": [
    "storeClient.rm (token, name = 'vos://newmags.csv')\n",
    "storeClient.rm (token, name = 'vos://results')\n",
    "storeClient.ls (token, name = 'vos://')"
   ]
  },
  {
   "cell_type": "markdown",
   "metadata": {},
   "source": [
    "### Using the datalab command\n",
    "\n",
    "The <i>datalab</i> command provides an alternate command line way to work with the query manager through the <i>query</i> subcommands.\n",
    "\n",
    "#### Initialization\n",
    "We need to be logged into the DataLab to use the query manager."
   ]
  },
  {
   "cell_type": "code",
   "execution_count": 16,
   "metadata": {},
   "outputs": [
    {
     "name": "stdout",
     "output_type": "stream",
     "text": [
      "\u001b[0;33mWARNING\u001b[0m: AstropyDeprecationWarning: The astropy.vo.samp module has now been moved to astropy.samp [astropy.vo.samp]\n",
      "Welcome to the Data Lab, demo00\n"
     ]
    }
   ],
   "source": [
    "!datalab login user=demo00 password=..."
   ]
  },
  {
   "cell_type": "markdown",
   "metadata": {},
   "source": [
    "#### Downloading a file\n",
    "\n",
    "Let's say we want to download a file from our virtual storage space:"
   ]
  },
  {
   "cell_type": "code",
   "execution_count": 17,
   "metadata": {},
   "outputs": [
    {
     "name": "stdout",
     "output_type": "stream",
     "text": [
      "\u001b[0;33mWARNING\u001b[0m: AstropyDeprecationWarning: The astropy.vo.samp module has now been moved to astropy.samp [astropy.vo.samp]\r\n"
     ]
    }
   ],
   "source": [
    "!datalab get fr=\"vos://mags.csv\" to=\"./mags.csv\""
   ]
  },
  {
   "cell_type": "markdown",
   "metadata": {},
   "source": [
    "#### Uploading a file\n",
    "\n",
    "Now we want to upload a new data file from our local disk:"
   ]
  },
  {
   "cell_type": "code",
   "execution_count": 18,
   "metadata": {},
   "outputs": [
    {
     "name": "stdout",
     "output_type": "stream",
     "text": [
      "\u001b[0;33mWARNING\u001b[0m: AstropyDeprecationWarning: The astropy.vo.samp module has now been moved to astropy.samp [astropy.vo.samp]\n",
      "(1 / 1) ./newmags.csv -> vos://newmags.csv\n"
     ]
    }
   ],
   "source": [
    "!datalab put fr=\"./newmags.csv\" to=\"vos://newmags.csv\""
   ]
  },
  {
   "cell_type": "markdown",
   "metadata": {},
   "source": [
    "#### Copying a file/directory\n",
    "\n",
    "We want to put a copy of the file in a remote work directory:"
   ]
  },
  {
   "cell_type": "code",
   "execution_count": 19,
   "metadata": {},
   "outputs": [
    {
     "name": "stdout",
     "output_type": "stream",
     "text": [
      "\u001b[0;33mWARNING\u001b[0m: AstropyDeprecationWarning: The astropy.vo.samp module has now been moved to astropy.samp [astropy.vo.samp]\r\n"
     ]
    }
   ],
   "source": [
    "!datalab cp fr=\"vos://newmags.csv\" to=\"vos://temp/newmags.csv\""
   ]
  },
  {
   "cell_type": "markdown",
   "metadata": {},
   "source": [
    "#### Linking to a file/directory\n",
    "\n",
    "Sometimes we want to create a link to a file or directory:"
   ]
  },
  {
   "cell_type": "code",
   "execution_count": 20,
   "metadata": {},
   "outputs": [
    {
     "name": "stdout",
     "output_type": "stream",
     "text": [
      "\u001b[0;33mWARNING\u001b[0m: AstropyDeprecationWarning: The astropy.vo.samp module has now been moved to astropy.samp [astropy.vo.samp]\r\n"
     ]
    }
   ],
   "source": [
    "!datalab ln fr=\"vos://temp/mags.csv\" to=\"vos://mags.csv\""
   ]
  },
  {
   "cell_type": "markdown",
   "metadata": {},
   "source": [
    "#### Listing a file/directory\n",
    "\n",
    "We can see all the files that are in a specific directory or get a full listing for a specific file:"
   ]
  },
  {
   "cell_type": "code",
   "execution_count": 21,
   "metadata": {},
   "outputs": [
    {
     "name": "stdout",
     "output_type": "stream",
     "text": [
      "\u001b[0;33mWARNING\u001b[0m: AstropyDeprecationWarning: The astropy.vo.samp module has now been moved to astropy.samp [astropy.vo.samp]\n",
      "\n"
     ]
    }
   ],
   "source": [
    "!datalab ls name=\"vos://temp\""
   ]
  },
  {
   "cell_type": "markdown",
   "metadata": {},
   "source": [
    "#### Creating a directory\n",
    "\n",
    "We can create a directory:"
   ]
  },
  {
   "cell_type": "code",
   "execution_count": 22,
   "metadata": {},
   "outputs": [
    {
     "name": "stdout",
     "output_type": "stream",
     "text": [
      "\u001b[0;33mWARNING\u001b[0m: AstropyDeprecationWarning: The astropy.vo.samp module has now been moved to astropy.samp [astropy.vo.samp]\r\n"
     ]
    }
   ],
   "source": [
    "!datalab mkdir name=\"vos://results\""
   ]
  },
  {
   "cell_type": "markdown",
   "metadata": {},
   "source": [
    "#### Moving/renaming a file/directory\n",
    "\n",
    "We can move a file or directory:"
   ]
  },
  {
   "cell_type": "code",
   "execution_count": 23,
   "metadata": {},
   "outputs": [
    {
     "name": "stdout",
     "output_type": "stream",
     "text": [
      "\u001b[0;33mWARNING\u001b[0m: AstropyDeprecationWarning: The astropy.vo.samp module has now been moved to astropy.samp [astropy.vo.samp]\r\n"
     ]
    }
   ],
   "source": [
    "!datalab mv fr=\"vos://temp/newmags.csv\" to=\"vos://results\""
   ]
  },
  {
   "cell_type": "markdown",
   "metadata": {},
   "source": [
    "#### Deleting a file\n",
    "\n",
    "We can delete a file:"
   ]
  },
  {
   "cell_type": "code",
   "execution_count": 24,
   "metadata": {},
   "outputs": [
    {
     "name": "stdout",
     "output_type": "stream",
     "text": [
      "\u001b[0;33mWARNING\u001b[0m: AstropyDeprecationWarning: The astropy.vo.samp module has now been moved to astropy.samp [astropy.vo.samp]\r\n"
     ]
    }
   ],
   "source": [
    "!datalab rm name=\"vos://temp/mags.csv\""
   ]
  },
  {
   "cell_type": "markdown",
   "metadata": {},
   "source": [
    "#### Deleting a directory\n",
    "\n",
    "We can also delete a directory:"
   ]
  },
  {
   "cell_type": "code",
   "execution_count": 25,
   "metadata": {},
   "outputs": [
    {
     "name": "stdout",
     "output_type": "stream",
     "text": [
      "\u001b[0;33mWARNING\u001b[0m: AstropyDeprecationWarning: The astropy.vo.samp module has now been moved to astropy.samp [astropy.vo.samp]\r\n"
     ]
    }
   ],
   "source": [
    "!datalab rmdir name=\"vos://temp\""
   ]
  },
  {
   "cell_type": "markdown",
   "metadata": {},
   "source": [
    "#### Tagging a file/directory\n",
    "\n",
    "We can tag any file or directory with arbitrary metadata:"
   ]
  },
  {
   "cell_type": "code",
   "execution_count": 26,
   "metadata": {},
   "outputs": [
    {
     "name": "stdout",
     "output_type": "stream",
     "text": [
      "\u001b[0;33mWARNING\u001b[0m: AstropyDeprecationWarning: The astropy.vo.samp module has now been moved to astropy.samp [astropy.vo.samp]\r\n"
     ]
    }
   ],
   "source": [
    "!datalab tag name=\"vos://results\" tag=\"The results from my analysis\""
   ]
  },
  {
   "cell_type": "code",
   "execution_count": null,
   "metadata": {},
   "outputs": [],
   "source": []
  }
 ],
 "metadata": {
  "anaconda-cloud": {},
  "kernelspec": {
   "display_name": "Python 2",
   "language": "python",
   "name": "python2"
  },
  "language_info": {
   "codemirror_mode": {
    "name": "ipython",
    "version": 2
   },
   "file_extension": ".py",
   "mimetype": "text/x-python",
   "name": "python",
   "nbconvert_exporter": "python",
   "pygments_lexer": "ipython2",
   "version": "2.7.14"
  }
 },
 "nbformat": 4,
 "nbformat_minor": 1
}
